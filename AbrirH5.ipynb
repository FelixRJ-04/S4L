{
 "cells": [
  {
   "cell_type": "code",
   "execution_count": 8,
   "metadata": {},
   "outputs": [
    {
     "name": "stdout",
     "output_type": "stream",
     "text": [
      "    sample  frame                                          keypoints\n",
      "0        1      1  [0.5932032465934753, 0.3068973422050476, 0.999...\n",
      "0        1      2  [0.593201756477356, 0.3083852231502533, 0.9999...\n",
      "0        1      3  [0.5932018756866455, 0.3138655722141266, 0.999...\n",
      "0        1      4  [0.5928693413734436, 0.31654825806617737, 0.99...\n",
      "0        1      5  [0.5928555130958557, 0.31872695684432983, 0.99...\n",
      "..     ...    ...                                                ...\n",
      "0        4     26  [0.5829020738601685, 0.36470091342926025, 0.99...\n",
      "0        4     27  [0.5828862190246582, 0.36664825677871704, 0.99...\n",
      "0        4     28  [0.5828871726989746, 0.3669641315937042, 0.999...\n",
      "0        4     29  [0.5817042589187622, 0.36320629715919495, 0.99...\n",
      "0        4     30  [0.5815017819404602, 0.3630601465702057, 0.999...\n",
      "\n",
      "[120 rows x 3 columns]\n",
      "El tamaño de la imagen  es 640x480 pixeles\n",
      "El dataset 'data' es un grupo. Contenido del grupo:\n",
      "['axis0', 'axis1', 'block0_items', 'block0_values', 'block1_items', 'block1_values']\n",
      "Dataset encontrado: axis0, Forma: (3,)\n",
      "Primeros elementos del dataset axis0: [b'sample' b'frame' b'keypoints']\n",
      "Dataset encontrado: axis1, Forma: (120,)\n",
      "Primeros elementos del dataset axis1: [0 0 0 0 0]\n",
      "Dataset encontrado: block0_items, Forma: (2,)\n",
      "Primeros elementos del dataset block0_items: [b'sample' b'frame']\n",
      "Dataset encontrado: block0_values, Forma: (120, 2)\n",
      "Primeros elementos del dataset block0_values: [[1 1]\n",
      " [1 2]\n",
      " [1 3]\n",
      " [1 4]\n",
      " [1 5]]\n",
      "Dataset encontrado: block1_items, Forma: (1,)\n",
      "Primeros elementos del dataset block1_items: [b'keypoints']\n",
      "Dataset encontrado: block1_values, Forma: (1,)\n",
      "Primeros elementos del dataset block1_values: [array([128,   5, 149, ..., 148,  98,  46], dtype=uint8)]\n"
     ]
    }
   ],
   "source": [
    "import pandas as pd\n",
    "import cv2 as cv\n",
    "import matplotlib.pyplot as plt \n",
    "import h5py\n",
    "import numpy as np\n",
    "\n",
    "#Identificar el contenido del archivo .h5 con numpy\n",
    "data = pd.read_hdf(\"./data/keypoints/Adios.h5\", key ='data')\n",
    "\n",
    "print(data)\n",
    "\n",
    "imagen1 = plt.imread('./frame_actions/Aceite/Muestra_240920140117772057/2.jpg')\n",
    "\n",
    "alto, ancho, canales = imagen1.shape\n",
    "\n",
    "print(f\"El tamaño de la imagen  es {ancho}x{alto} pixeles\")\n",
    "\n",
    "#Identificar el tipo de dato por medio de h5py\n",
    "file_path = \"./data/keypoints/Adios.h5\"\n",
    "\n",
    "with h5py.File(file_path, 'r') as f:\n",
    "    data2 = f['data']\n",
    "    \n",
    "    if isinstance(data2, h5py.Group):\n",
    "        print(\"El dataset 'data' es un grupo. Contenido del grupo:\")\n",
    "        print(list(data2.keys()))\n",
    "        \n",
    "        for name in data2:\n",
    "            dataset = data2[name]\n",
    "            print(f\"Dataset encontrado: {name}, Forma: {dataset.shape}\")\n",
    "            print(f\"Primeros elementos del dataset {name}: {dataset[:5]}\")\n",
    "\n",
    "    elif isinstance(data2, h5py.Dataset):\n",
    "        print(\"El dataset 'data' es un dataset. Tamaño:\")\n",
    "        print(data2.shape)\n",
    "    else:\n",
    "        print(\"Tipo de datos desconocido\")\n",
    "\n",
    "    \n",
    "\n",
    "\n"
   ]
  }
 ],
 "metadata": {
  "kernelspec": {
   "display_name": ".venv",
   "language": "python",
   "name": "python3"
  },
  "language_info": {
   "codemirror_mode": {
    "name": "ipython",
    "version": 3
   },
   "file_extension": ".py",
   "mimetype": "text/x-python",
   "name": "python",
   "nbconvert_exporter": "python",
   "pygments_lexer": "ipython3",
   "version": "3.11.9"
  }
 },
 "nbformat": 4,
 "nbformat_minor": 2
}
