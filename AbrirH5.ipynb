{
 "cells": [
  {
   "cell_type": "code",
   "execution_count": 25,
   "metadata": {},
   "outputs": [
    {
     "name": "stdout",
     "output_type": "stream",
     "text": [
      "    sample  frame                                          keypoints\n",
      "0        1      1  [0.5932032465934753, 0.3068973422050476, -0.70...\n",
      "0        1      2  [0.593201756477356, 0.3083852231502533, -0.757...\n",
      "0        1      3  [0.5932018756866455, 0.3138655722141266, -0.71...\n",
      "0        1      4  [0.5928693413734436, 0.31654825806617737, -0.7...\n",
      "0        1      5  [0.5928555130958557, 0.31872695684432983, -0.7...\n",
      "..     ...    ...                                                ...\n",
      "0        4     26  [0.5829020738601685, 0.36470091342926025, -1.0...\n",
      "0        4     27  [0.5828862190246582, 0.36664825677871704, -1.0...\n",
      "0        4     28  [0.5828871726989746, 0.3669641315937042, -0.88...\n",
      "0        4     29  [0.5817042589187622, 0.36320629715919495, -0.8...\n",
      "0        4     30  [0.5815017819404602, 0.3630601465702057, -0.87...\n",
      "\n",
      "[120 rows x 3 columns]\n",
      "El tamaño de la imagen  es 640x480 pixeles\n"
     ]
    }
   ],
   "source": [
    "import pandas as pd\n",
    "import cv2 as cv\n",
    "import matplotlib.pyplot as plt \n",
    "import h5py\n",
    "import numpy as np\n",
    "\n",
    "data = pd.read_hdf(\"./data/keypoints/Adios.h5\", key ='data')\n",
    "\n",
    "print(data)\n",
    "\n",
    "imagen1 = plt.imread('./frame_actions/Aceite/Muestra_240920140117772057/2.jpg')\n",
    "\n",
    "alto, ancho, canales = imagen1.shape\n",
    "\n",
    "print(f\"El tamaño de la imagen  es {ancho}x{alto} pixeles\")\n",
    "\n",
    "\n"
   ]
  }
 ],
 "metadata": {
  "kernelspec": {
   "display_name": ".venv",
   "language": "python",
   "name": "python3"
  },
  "language_info": {
   "codemirror_mode": {
    "name": "ipython",
    "version": 3
   },
   "file_extension": ".py",
   "mimetype": "text/x-python",
   "name": "python",
   "nbconvert_exporter": "python",
   "pygments_lexer": "ipython3",
   "version": "3.11.9"
  }
 },
 "nbformat": 4,
 "nbformat_minor": 2
}
